{
 "cells": [
  {
   "cell_type": "code",
   "execution_count": 1,
   "metadata": {},
   "outputs": [
    {
     "name": "stderr",
     "output_type": "stream",
     "text": [
      "/Users/carlosito/Documents/vsCode/vs-DANI/DL-Project/V-WSD/poon-method/new-env/lib/python3.10/site-packages/tqdm/auto.py:22: TqdmWarning: IProgress not found. Please update jupyter and ipywidgets. See https://ipywidgets.readthedocs.io/en/stable/user_install.html\n",
      "  from .autonotebook import tqdm as notebook_tqdm\n"
     ]
    }
   ],
   "source": [
    "import pandas as pd\n",
    "import numpy as np\n",
    "import matplotlib.pyplot as plt\n",
    "import seaborn as sns\n",
    "\n",
    "from PIL import Image\n",
    "\n",
    "import torch\n",
    "from transformers import VisionEncoderDecoderModel, ViTFeatureExtractor, AutoTokenizer\n",
    "\n",
    "from sklearn.metrics import accuracy_score\n",
    "from rouge import Rouge\n",
    "\n",
    "import json\n",
    "import os\n",
    "\n",
    "from tqdm import tqdm\n"
   ]
  },
  {
   "cell_type": "code",
   "execution_count": 2,
   "metadata": {},
   "outputs": [
    {
     "name": "stdout",
     "output_type": "stream",
     "text": [
      "Synset('bank.n.01') sloping land (especially the slope beside a body of water)\n",
      "Synset('depository_financial_institution.n.01') a financial institution that accepts deposits and channels the money into lending activities\n",
      "Synset('bank.n.03') a long ridge or pile\n",
      "Synset('bank.n.04') an arrangement of similar objects in a row or in tiers\n",
      "Synset('bank.n.05') a supply or stock held in reserve for future use (especially in emergencies)\n",
      "Synset('bank.n.06') the funds held by a gambling house or the dealer in some gambling games\n",
      "Synset('bank.n.07') a slope in the turn of a road or track; the outside is higher than the inside in order to reduce the effects of centrifugal force\n",
      "Synset('savings_bank.n.02') a container (usually with a slot in the top) for keeping money at home\n",
      "Synset('bank.n.09') a building in which the business of banking transacted\n",
      "Synset('bank.n.10') a flight maneuver; aircraft tips laterally about its longitudinal axis (especially in turning)\n",
      "Synset('bank.v.01') tip laterally\n",
      "Synset('bank.v.02') enclose with a bank\n",
      "Synset('bank.v.03') do business with a bank or keep an account at a bank\n",
      "Synset('bank.v.04') act as the banker in a game or in gambling\n",
      "Synset('bank.v.05') be in the banking business\n",
      "Synset('deposit.v.02') put into a bank account\n",
      "Synset('bank.v.07') cover with ashes so to control the rate of burning\n",
      "Synset('trust.v.01') have confidence or faith in\n"
     ]
    }
   ],
   "source": [
    "from nltk.corpus import wordnet as wn\n",
    "from nltk.tokenize import word_tokenize, sent_tokenize\n",
    "from nltk.wsd import lesk\n",
    "for ss in wn.synsets('bank'):\n",
    "    print(ss, ss.definition())"
   ]
  },
  {
   "cell_type": "code",
   "execution_count": 3,
   "metadata": {},
   "outputs": [
    {
     "data": {
      "text/html": [
       "<div>\n",
       "<style scoped>\n",
       "    .dataframe tbody tr th:only-of-type {\n",
       "        vertical-align: middle;\n",
       "    }\n",
       "\n",
       "    .dataframe tbody tr th {\n",
       "        vertical-align: top;\n",
       "    }\n",
       "\n",
       "    .dataframe thead th {\n",
       "        text-align: right;\n",
       "    }\n",
       "</style>\n",
       "<table border=\"1\" class=\"dataframe\">\n",
       "  <thead>\n",
       "    <tr style=\"text-align: right;\">\n",
       "      <th></th>\n",
       "      <th>keyword</th>\n",
       "      <th>context</th>\n",
       "      <th>img1</th>\n",
       "      <th>img2</th>\n",
       "      <th>img3</th>\n",
       "      <th>img4</th>\n",
       "      <th>img5</th>\n",
       "      <th>img6</th>\n",
       "      <th>img7</th>\n",
       "      <th>img8</th>\n",
       "      <th>img9</th>\n",
       "      <th>img10</th>\n",
       "      <th>gold_key</th>\n",
       "    </tr>\n",
       "  </thead>\n",
       "  <tbody>\n",
       "    <tr>\n",
       "      <th>0</th>\n",
       "      <td>andromeda</td>\n",
       "      <td>andromeda tree</td>\n",
       "      <td>image.155.jpg</td>\n",
       "      <td>image.68.jpg</td>\n",
       "      <td>image.9.jpg</td>\n",
       "      <td>image.72.jpg</td>\n",
       "      <td>image.158.jpg</td>\n",
       "      <td>image.86.jpg</td>\n",
       "      <td>image.7.jpg</td>\n",
       "      <td>image.132.jpg</td>\n",
       "      <td>image.36.jpg</td>\n",
       "      <td>image.27.jpg</td>\n",
       "      <td>image.86.jpg</td>\n",
       "    </tr>\n",
       "    <tr>\n",
       "      <th>1</th>\n",
       "      <td>angora</td>\n",
       "      <td>angora city</td>\n",
       "      <td>image.5.jpg</td>\n",
       "      <td>image.52.jpg</td>\n",
       "      <td>image.96.jpg</td>\n",
       "      <td>image.70.jpg</td>\n",
       "      <td>image.46.jpg</td>\n",
       "      <td>image.91.jpg</td>\n",
       "      <td>image.76.jpg</td>\n",
       "      <td>image.139.jpg</td>\n",
       "      <td>image.14.jpg</td>\n",
       "      <td>image.115.jpg</td>\n",
       "      <td>image.70.jpg</td>\n",
       "    </tr>\n",
       "    <tr>\n",
       "      <th>2</th>\n",
       "      <td>anteater</td>\n",
       "      <td>marsupial anteater</td>\n",
       "      <td>image.147.jpg</td>\n",
       "      <td>image.16.jpg</td>\n",
       "      <td>image.107.jpg</td>\n",
       "      <td>image.135.jpg</td>\n",
       "      <td>image.93.jpg</td>\n",
       "      <td>image.59.jpg</td>\n",
       "      <td>image.88.png</td>\n",
       "      <td>image.131.jpg</td>\n",
       "      <td>image.89.jpg</td>\n",
       "      <td>image.121.jpg</td>\n",
       "      <td>image.107.jpg</td>\n",
       "    </tr>\n",
       "    <tr>\n",
       "      <th>3</th>\n",
       "      <td>bank</td>\n",
       "      <td>bank erosion</td>\n",
       "      <td>image.104.jpg</td>\n",
       "      <td>image.64.jpg</td>\n",
       "      <td>image.108.jpg</td>\n",
       "      <td>image.80.jpg</td>\n",
       "      <td>image.21.jpg</td>\n",
       "      <td>image.99.jpg</td>\n",
       "      <td>image.117.jpg</td>\n",
       "      <td>image.146.jpg</td>\n",
       "      <td>image.87.jpg</td>\n",
       "      <td>image.34.jpg</td>\n",
       "      <td>image.64.jpg</td>\n",
       "    </tr>\n",
       "    <tr>\n",
       "      <th>4</th>\n",
       "      <td>router</td>\n",
       "      <td>internet router</td>\n",
       "      <td>image.127.jpg</td>\n",
       "      <td>image.0.jpg</td>\n",
       "      <td>image.20.jpg</td>\n",
       "      <td>image.18.jpg</td>\n",
       "      <td>image.112.jpg</td>\n",
       "      <td>image.97.jpg</td>\n",
       "      <td>image.24.jpg</td>\n",
       "      <td>image.1.jpg</td>\n",
       "      <td>image.56.jpg</td>\n",
       "      <td>image.26.jpg</td>\n",
       "      <td>image.18.jpg</td>\n",
       "    </tr>\n",
       "  </tbody>\n",
       "</table>\n",
       "</div>"
      ],
      "text/plain": [
       "     keyword             context           img1          img2           img3  \\\n",
       "0  andromeda      andromeda tree  image.155.jpg  image.68.jpg    image.9.jpg   \n",
       "1     angora         angora city    image.5.jpg  image.52.jpg   image.96.jpg   \n",
       "2   anteater  marsupial anteater  image.147.jpg  image.16.jpg  image.107.jpg   \n",
       "3       bank        bank erosion  image.104.jpg  image.64.jpg  image.108.jpg   \n",
       "4     router     internet router  image.127.jpg   image.0.jpg   image.20.jpg   \n",
       "\n",
       "            img4           img5          img6           img7           img8  \\\n",
       "0   image.72.jpg  image.158.jpg  image.86.jpg    image.7.jpg  image.132.jpg   \n",
       "1   image.70.jpg   image.46.jpg  image.91.jpg   image.76.jpg  image.139.jpg   \n",
       "2  image.135.jpg   image.93.jpg  image.59.jpg   image.88.png  image.131.jpg   \n",
       "3   image.80.jpg   image.21.jpg  image.99.jpg  image.117.jpg  image.146.jpg   \n",
       "4   image.18.jpg  image.112.jpg  image.97.jpg   image.24.jpg    image.1.jpg   \n",
       "\n",
       "           img9          img10       gold_key  \n",
       "0  image.36.jpg   image.27.jpg   image.86.jpg  \n",
       "1  image.14.jpg  image.115.jpg   image.70.jpg  \n",
       "2  image.89.jpg  image.121.jpg  image.107.jpg  \n",
       "3  image.87.jpg   image.34.jpg   image.64.jpg  \n",
       "4  image.56.jpg   image.26.jpg   image.18.jpg  "
      ]
     },
     "execution_count": 3,
     "metadata": {},
     "output_type": "execute_result"
    }
   ],
   "source": [
    "PATH = \"/Users/carlosito/Documents/vsCode/vs-DANI/DL-Project/semeval-2023-task-1-V-WSD-train-v1/trial_v1/\"\n",
    "data = pd.read_csv(PATH+'trial.data.v1.txt', delimiter='\\t', header=None)\n",
    "keys = pd.read_csv(PATH+'trial.gold.v1.txt', delimiter='\\t', header=None)\n",
    "df = pd.concat([data, keys],axis=1)\n",
    "df.columns = ['keyword', 'context', 'img1', 'img2', 'img3', 'img4', 'img5', 'img6', 'img7', 'img8', 'img9', 'img10', 'gold_key']\n",
    "df.head()\n"
   ]
  },
  {
   "cell_type": "code",
   "execution_count": 5,
   "metadata": {},
   "outputs": [],
   "source": [
    "device = torch.device(\"cuda\" if torch.cuda.is_available() else \"cpu\")\n",
    "\n",
    "model = VisionEncoderDecoderModel.from_pretrained(\"nlpconnect/vit-gpt2-image-captioning\")\n",
    "feature_extractor = ViTFeatureExtractor.from_pretrained(\"nlpconnect/vit-gpt2-image-captioning\")\n",
    "tokenizer = AutoTokenizer.from_pretrained(\"nlpconnect/vit-gpt2-image-captioning\")\n",
    "\n",
    "max_length = 16\n",
    "num_beams = 4\n",
    "gen_kwargs = {\"max_length\": max_length, \"num_beams\": num_beams}"
   ]
  },
  {
   "cell_type": "code",
   "execution_count": 20,
   "metadata": {},
   "outputs": [],
   "source": [
    "generated_text_dict = {}"
   ]
  },
  {
   "cell_type": "code",
   "execution_count": 27,
   "metadata": {},
   "outputs": [
    {
     "name": "stderr",
     "output_type": "stream",
     "text": [
      "100%|██████████| 16/16 [02:09<00:00,  8.08s/it]\n"
     ]
    }
   ],
   "source": [
    "for row in tqdm(range(len(df))):\n",
    "    for img in range(1,11):\n",
    "        selected_col = df.iloc[row][f'img{img}']\n",
    "        \n",
    "        if selected_col in generated_text_dict.keys():\n",
    "            pred = generated_text_dict[selected_col]\n",
    "            \n",
    "        \n",
    "        else:\n",
    "            IMAGE_PATH = \"/Users/carlosito/Documents/vsCode/vs-DANI/DL-Project/semeval-2023-task-1-V-WSD-train-v1/trial_v1/trial_images_v1/\"\n",
    "            IMAGE_PATH_EACH = IMAGE_PATH + selected_col\n",
    "            \n",
    "            plot_img = Image.open(IMAGE_PATH_EACH)\n",
    "            if plot_img.mode != \"RGB\":          #add this thing\n",
    "                plot_img = plot_img.convert(mode=\"RGB\")\n",
    "                \n",
    "                \n",
    "            pixel_values = feature_extractor(images= plot_img, return_tensors=\"pt\").pixel_values\n",
    "            pixel_values = pixel_values.to(device)  \n",
    "            gen_kwargs = {\"max_length\": max_length, \"num_beams\": num_beams}\n",
    "            output_ids = model.generate(pixel_values, **gen_kwargs)\n",
    "            pred = tokenizer.batch_decode(output_ids, skip_special_tokens=True)\n",
    "            \n",
    "            generated_text_dict[selected_col] = pred[0]\n",
    "            \n",
    "        "
   ]
  },
  {
   "cell_type": "markdown",
   "metadata": {},
   "source": [
    "## Writing json file"
   ]
  },
  {
   "cell_type": "code",
   "execution_count": 26,
   "metadata": {},
   "outputs": [],
   "source": [
    "filename = 'test-image-description.json'\n",
    "with open(filename, 'w') as f:\n",
    "    json.dump(generated_text_dict, f, sort_keys=True, indent=4)"
   ]
  },
  {
   "cell_type": "code",
   "execution_count": null,
   "metadata": {},
   "outputs": [],
   "source": []
  }
 ],
 "metadata": {
  "kernelspec": {
   "display_name": "Python 3.10.5 ('new-env': venv)",
   "language": "python",
   "name": "python3"
  },
  "language_info": {
   "codemirror_mode": {
    "name": "ipython",
    "version": 3
   },
   "file_extension": ".py",
   "mimetype": "text/x-python",
   "name": "python",
   "nbconvert_exporter": "python",
   "pygments_lexer": "ipython3",
   "version": "3.10.5"
  },
  "orig_nbformat": 4,
  "vscode": {
   "interpreter": {
    "hash": "b67112068909551cfea70082520a0ef75e5d3e570f99842861d4e2cef8049ea6"
   }
  }
 },
 "nbformat": 4,
 "nbformat_minor": 2
}
